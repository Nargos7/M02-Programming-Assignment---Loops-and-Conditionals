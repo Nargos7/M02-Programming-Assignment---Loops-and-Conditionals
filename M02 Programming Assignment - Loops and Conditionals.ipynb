{
 "cells": [
  {
   "cell_type": "code",
   "execution_count": null,
   "id": "982dc3ed",
   "metadata": {},
   "outputs": [],
   "source": [
    "#Argyrios Benekos\n",
    "#Assing two numbers between 1 and 10 secret number and guess number.\n",
    "#Check if the the guess number is greater, less, or equal to secret number.\n",
    "\n",
    "secret = 7\n",
    "guess = 2\n",
    "\n",
    "if guess < secret:\n",
    "    print('too low' )\n",
    "\n",
    "elif guess > secret:\n",
    "    print('too high' )\n",
    "\n",
    "else:\n",
    "    print('just right' )"
   ]
  },
  {
   "cell_type": "code",
   "execution_count": null,
   "id": "71fe72d4",
   "metadata": {},
   "outputs": [],
   "source": [
    "#Argyrios Benekos\n",
    "#if/else statements with variables small and green.\n",
    "\n",
    "small = True\n",
    "green = False\n",
    "\n",
    "if small and green:\n",
    "    print('cherry')\n",
    "elif small and not green:\n",
    "    print('pea')\n",
    "elif small or green:\n",
    "    print('watermelon')\n",
    "else:\n",
    "    print('pumpkin')"
   ]
  },
  {
   "cell_type": "code",
   "execution_count": null,
   "id": "b675ac1a",
   "metadata": {},
   "outputs": [],
   "source": [
    "#Argyrios Benekos\n",
    "#A loop that prints the list [3, 2, 1, 0]\n",
    "\n",
    "list = [3, 2, 1, 0]\n",
    "\n",
    "for number in list:\n",
    "    print(number)"
   ]
  },
  {
   "cell_type": "code",
   "execution_count": 1,
   "id": "11eb989d",
   "metadata": {},
   "outputs": [
    {
     "name": "stdout",
     "output_type": "stream",
     "text": [
      "too low\n"
     ]
    }
   ],
   "source": [
    "#Argyrios Benekos\n",
    "#This program that compares a value (number) is greater than, less than, or equal to the variable (guess_me)\n",
    "\n",
    "guess_me = 7\n",
    "number = 1\n",
    "\n",
    "while True:\n",
    "    if number < guess_me:\n",
    "        print('too low')\n",
    "        break\n",
    "    elif number == guess_me:\n",
    "        print('found it')\n",
    "        break\n",
    "    else:\n",
    "        print('oops')\n",
    "        break\n",
    "number += 1"
   ]
  },
  {
   "cell_type": "code",
   "execution_count": 2,
   "id": "884513b2",
   "metadata": {},
   "outputs": [
    {
     "name": "stdout",
     "output_type": "stream",
     "text": [
      "too low\n",
      "too low\n",
      "too low\n",
      "too low\n",
      "too low\n",
      "found it!\n"
     ]
    }
   ],
   "source": [
    "#Argyrios Benekos\n",
    "#This program that compares a value (number) is greater than, less than, \n",
    "#or equal to the variable (guess_me) in range 10\n",
    "\n",
    "guess_me = 5\n",
    "\n",
    "for number in range(10):\n",
    "    if number < guess_me:\n",
    "        print('too low')\n",
    "    elif number == guess_me:\n",
    "        print('found it!')\n",
    "        break\n",
    "    else:\n",
    "        print('oops')\n",
    "        break"
   ]
  },
  {
   "cell_type": "code",
   "execution_count": null,
   "id": "c7b2874c",
   "metadata": {},
   "outputs": [],
   "source": []
  }
 ],
 "metadata": {
  "kernelspec": {
   "display_name": "Python 3 (ipykernel)",
   "language": "python",
   "name": "python3"
  },
  "language_info": {
   "codemirror_mode": {
    "name": "ipython",
    "version": 3
   },
   "file_extension": ".py",
   "mimetype": "text/x-python",
   "name": "python",
   "nbconvert_exporter": "python",
   "pygments_lexer": "ipython3",
   "version": "3.11.5"
  }
 },
 "nbformat": 4,
 "nbformat_minor": 5
}
